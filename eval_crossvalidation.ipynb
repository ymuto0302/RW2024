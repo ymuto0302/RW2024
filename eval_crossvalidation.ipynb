{
  "nbformat": 4,
  "nbformat_minor": 0,
  "metadata": {
    "colab": {
      "provenance": [],
      "authorship_tag": "ABX9TyPNGOEhYeoxJobl7MirxAbv",
      "include_colab_link": true
    },
    "kernelspec": {
      "name": "python3",
      "display_name": "Python 3"
    },
    "language_info": {
      "name": "python"
    }
  },
  "cells": [
    {
      "cell_type": "markdown",
      "metadata": {
        "id": "view-in-github",
        "colab_type": "text"
      },
      "source": [
        "<a href=\"https://colab.research.google.com/github/ymuto0302/RW2024/blob/main/eval_crossvalidation.ipynb\" target=\"_parent\"><img src=\"https://colab.research.google.com/assets/colab-badge.svg\" alt=\"Open In Colab\"/></a>"
      ]
    },
    {
      "cell_type": "code",
      "execution_count": 1,
      "metadata": {
        "colab": {
          "base_uri": "https://localhost:8080/"
        },
        "id": "e4vOEMiESnJw",
        "outputId": "ef427ba7-ae57-4f82-d9f2-09b07416d5d1"
      },
      "outputs": [
        {
          "output_type": "stream",
          "name": "stdout",
          "text": [
            "Cross-Validation: accuracy on each split [0.96666667 1.         0.96666667 0.96666667 1.        ]\n",
            "Cross-Validation Accuracy: 0.98 (+/- 0.03)\n"
          ]
        }
      ],
      "source": [
        "from sklearn.datasets import load_iris\n",
        "from sklearn.svm import SVC\n",
        "from sklearn.model_selection import cross_val_score\n",
        "# import numpy as np\n",
        "\n",
        "# データの読み込み\n",
        "iris = load_iris()\n",
        "\n",
        "# 特徴量とラベルの分離\n",
        "X, y = iris.data, iris.target\n",
        "\n",
        "# 線形SVM\n",
        "svm_classifier = SVC(kernel='linear')\n",
        "\n",
        "# 5-Fold Cross-Validationを実行\n",
        "# パラメータ cv: 分割数（ここでは5分割）\n",
        "# パラメータ scoring: 評価指標（ここではaccuracyを使用）\n",
        "cross_val_results = cross_val_score(svm_classifier, X, y, cv=5, scoring='accuracy')\n",
        "\n",
        "# (参考)各分割における正解率\n",
        "print(\"Cross-Validation: accuracy on each split\", cross_val_results)\n",
        "\n",
        "# 交差検証の結果を表示\n",
        "print(\"Cross-Validation Accuracy: %0.2f (+/- %0.2f)\" % (cross_val_results.mean(), cross_val_results.std() * 2))"
      ]
    },
    {
      "cell_type": "code",
      "source": [],
      "metadata": {
        "id": "lxTQzhXwStdm"
      },
      "execution_count": null,
      "outputs": []
    }
  ]
}