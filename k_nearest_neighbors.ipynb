{
  "nbformat": 4,
  "nbformat_minor": 0,
  "metadata": {
    "colab": {
      "provenance": [],
      "authorship_tag": "ABX9TyNf+yWcGMZhFZZgLxQTVBW8",
      "include_colab_link": true
    },
    "kernelspec": {
      "name": "python3",
      "display_name": "Python 3"
    },
    "language_info": {
      "name": "python"
    }
  },
  "cells": [
    {
      "cell_type": "markdown",
      "metadata": {
        "id": "view-in-github",
        "colab_type": "text"
      },
      "source": [
        "<a href=\"https://colab.research.google.com/github/ymuto0302/RW2024/blob/main/k_nearest_neighbors.ipynb\" target=\"_parent\"><img src=\"https://colab.research.google.com/assets/colab-badge.svg\" alt=\"Open In Colab\"/></a>"
      ]
    },
    {
      "cell_type": "code",
      "execution_count": null,
      "metadata": {
        "id": "FJtlJI365UEj"
      },
      "outputs": [],
      "source": [
        "'''\n",
        "k-近傍法\n",
        "(注意) forge データセットを利用するため，予め mglearn パッケージを\n",
        "インストールすること。Google Colab の場合，以下のコマンドによりインストールできる。\n",
        "!pip install mglearn\n",
        "'''\n",
        "import numpy as np\n",
        "from mglearn.datasets import make_forge\n",
        "from sklearn.neighbors import KNeighborsClassifier\n",
        "from sklearn.model_selection import train_test_split\n",
        "import matplotlib.pyplot as plt\n",
        "\n",
        "# データの読み込み\n",
        "X, y = make_forge()\n",
        "\n",
        "# 学習データとテストデータに分割 (学習:テスト=7:3)\n",
        "X_train, X_test, y_train, y_test = train_test_split(X, y,\n",
        "                                                    test_size=0.3,\n",
        "                                                    stratify=y)\n",
        "\n",
        "# モデルの構築\n",
        "model = KNeighborsClassifier(n_neighbors=3)\n",
        "\n",
        "# モデルの学習\n",
        "model.fit(X_train, y_train)\n",
        "\n",
        "# 予測\n",
        "predictions = model.predict(X_test)\n",
        "\n",
        "# 評価\n",
        "print(\"accuracy:\", np.mean(predictions == y_test))\n",
        "\n",
        "# 決定境界の描画\n",
        "from sklearn.inspection import DecisionBoundaryDisplay\n",
        "import matplotlib.pyplot as plt\n",
        "fig, ax = plt.subplots() # ax を取得するため subplots を使う\n",
        "DecisionBoundaryDisplay.from_estimator(model, X_test,\n",
        "                                       response_method=\"predict\",\n",
        "                                       alpha=0.4, ax=ax) # 決定境界の描画\n",
        "ax.scatter(X_test[:, 0], X_test[:, 1], c=y_test, edgecolor='black') # テストサンプルを描画\n",
        "ax.scatter(X_train[:, 0], X_train[:, 1], c=y_train, edgecolor='black', marker=\"^\") # 学習サンプルを描画"
      ]
    }
  ]
}