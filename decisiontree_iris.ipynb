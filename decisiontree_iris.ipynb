{
  "nbformat": 4,
  "nbformat_minor": 0,
  "metadata": {
    "colab": {
      "provenance": [],
      "authorship_tag": "ABX9TyO6wN4Ph6lhehFmNbKhZHVg",
      "include_colab_link": true
    },
    "kernelspec": {
      "name": "python3",
      "display_name": "Python 3"
    },
    "language_info": {
      "name": "python"
    }
  },
  "cells": [
    {
      "cell_type": "markdown",
      "metadata": {
        "id": "view-in-github",
        "colab_type": "text"
      },
      "source": [
        "<a href=\"https://colab.research.google.com/github/ymuto0302/RW2024/blob/main/decisiontree_iris.ipynb\" target=\"_parent\"><img src=\"https://colab.research.google.com/assets/colab-badge.svg\" alt=\"Open In Colab\"/></a>"
      ]
    },
    {
      "cell_type": "markdown",
      "source": [
        "# 決定木を用いたIrisデータセットの分類と可視化"
      ],
      "metadata": {
        "id": "NSWpNx0Rb_rq"
      }
    },
    {
      "cell_type": "markdown",
      "source": [
        "## 環境設定とデータ準備："
      ],
      "metadata": {
        "id": "E9Do1LGtcE5K"
      }
    },
    {
      "cell_type": "code",
      "execution_count": 5,
      "metadata": {
        "id": "qsFAH89kbgJQ"
      },
      "outputs": [],
      "source": [
        "import numpy as np\n",
        "import pandas as pd\n",
        "import matplotlib.pyplot as plt\n",
        "from sklearn.datasets import load_iris\n",
        "from sklearn.model_selection import train_test_split\n",
        "from sklearn.tree import DecisionTreeClassifier, plot_tree\n",
        "from sklearn.metrics import accuracy_score, classification_report\n",
        "\n",
        "# Irisデータセットの読み込み\n",
        "iris = load_iris()\n",
        "X, y = iris.data, iris.target\n",
        "\n",
        "# データの分割\n",
        "X_train, X_test, y_train, y_test = train_test_split(X, y, test_size=0.3, random_state=42)"
      ]
    },
    {
      "cell_type": "markdown",
      "source": [
        "## 決定木モデルの構築と評価："
      ],
      "metadata": {
        "id": "VXxbK0CicKq6"
      }
    },
    {
      "cell_type": "code",
      "source": [
        "# モデルの構築\n",
        "clf = DecisionTreeClassifier()\n",
        "clf.fit(X_train, y_train)\n",
        "\n",
        "# 予測と評価\n",
        "y_pred = clf.predict(X_test)\n",
        "print(\"Accuracy:\", accuracy_score(y_test, y_pred))\n",
        "print(\"\\nClassification Report:\\n\", classification_report(y_test, y_pred))"
      ],
      "metadata": {
        "id": "xLHq_TBvcOKH"
      },
      "execution_count": null,
      "outputs": []
    },
    {
      "cell_type": "markdown",
      "source": [
        "## 決定木の可視化："
      ],
      "metadata": {
        "id": "csMcDe_icTH4"
      }
    },
    {
      "cell_type": "code",
      "source": [
        "plt.figure(figsize=(20,10))\n",
        "plot_tree(clf, feature_names=iris.feature_names, class_names=iris.target_names, filled=True)\n",
        "plt.show()"
      ],
      "metadata": {
        "id": "aqgs2Ed6cRFq"
      },
      "execution_count": null,
      "outputs": []
    },
    {
      "cell_type": "markdown",
      "source": [
        "## 決定木の深さによる性能変化："
      ],
      "metadata": {
        "id": "jqNtiJoJcZ6q"
      }
    },
    {
      "cell_type": "code",
      "source": [
        "max_depths = range(1, 11)\n",
        "accuracies = []\n",
        "\n",
        "for depth in max_depths:\n",
        "    clf = DecisionTreeClassifier(max_depth=depth, random_state=42)\n",
        "    clf.fit(X_train, y_train)\n",
        "    y_pred = clf.predict(X_test)\n",
        "    accuracies.append(accuracy_score(y_test, y_pred))\n",
        "\n",
        "plt.plot(max_depths, accuracies)\n",
        "plt.xlabel('Max Depth')\n",
        "plt.ylabel('Accuracy')\n",
        "plt.title('Accuracy vs Max Depth')\n",
        "plt.show()"
      ],
      "metadata": {
        "id": "GDO9l1vMcXS-"
      },
      "execution_count": null,
      "outputs": []
    }
  ]
}