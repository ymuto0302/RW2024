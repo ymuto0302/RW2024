{
  "nbformat": 4,
  "nbformat_minor": 0,
  "metadata": {
    "colab": {
      "provenance": [],
      "authorship_tag": "ABX9TyM+fjHU/XBBQ79vj0N+F8ce",
      "include_colab_link": true
    },
    "kernelspec": {
      "name": "python3",
      "display_name": "Python 3"
    },
    "language_info": {
      "name": "python"
    }
  },
  "cells": [
    {
      "cell_type": "markdown",
      "metadata": {
        "id": "view-in-github",
        "colab_type": "text"
      },
      "source": [
        "<a href=\"https://colab.research.google.com/github/ymuto0302/RW2024/blob/main/eval_LOO.ipynb\" target=\"_parent\"><img src=\"https://colab.research.google.com/assets/colab-badge.svg\" alt=\"Open In Colab\"/></a>"
      ]
    },
    {
      "cell_type": "code",
      "execution_count": 1,
      "metadata": {
        "colab": {
          "base_uri": "https://localhost:8080/"
        },
        "id": "CA9I52aeTUWm",
        "outputId": "a8f125e1-1cd6-4e2d-c4db-7e40c73339e9"
      },
      "outputs": [
        {
          "output_type": "stream",
          "name": "stdout",
          "text": [
            "Number of splits: 150\n",
            "Mean Accuracy: 0.9800\n",
            "Standard Deviation: 0.1400\n"
          ]
        }
      ],
      "source": [
        "import numpy as np\n",
        "from sklearn.datasets import load_iris\n",
        "from sklearn.svm import SVC\n",
        "from sklearn.model_selection import LeaveOneOut, cross_val_score\n",
        "\n",
        "# Irisデータセットの読み込み\n",
        "iris = load_iris()\n",
        "X = iris.data\n",
        "y = iris.target\n",
        "\n",
        "# SVCモデルの初期化（線形カーネル）\n",
        "svc = SVC(kernel='linear')\n",
        "\n",
        "# LeaveOneOut交差検証器の設定\n",
        "loo = LeaveOneOut()\n",
        "\n",
        "# cross_val_score()を使用してLeaveOneOut交差検証を実行\n",
        "scores = cross_val_score(svc, X, y, cv=loo, scoring='accuracy')\n",
        "\n",
        "# 結果の表示\n",
        "print(f\"Number of splits: {len(scores)}\")\n",
        "print(f\"Mean Accuracy: {np.mean(scores):.4f}\")\n",
        "print(f\"Standard Deviation: {np.std(scores):.4f}\")"
      ]
    },
    {
      "cell_type": "code",
      "source": [],
      "metadata": {
        "id": "g765t7S7TdMv"
      },
      "execution_count": null,
      "outputs": []
    }
  ]
}