{
  "nbformat": 4,
  "nbformat_minor": 0,
  "metadata": {
    "colab": {
      "provenance": [],
      "authorship_tag": "ABX9TyO8Tz/1gEL8de29px8Loq+b",
      "include_colab_link": true
    },
    "kernelspec": {
      "name": "python3",
      "display_name": "Python 3"
    },
    "language_info": {
      "name": "python"
    }
  },
  "cells": [
    {
      "cell_type": "markdown",
      "metadata": {
        "id": "view-in-github",
        "colab_type": "text"
      },
      "source": [
        "<a href=\"https://colab.research.google.com/github/ymuto0302/RW2024/blob/main/train_val_test.ipynb\" target=\"_parent\"><img src=\"https://colab.research.google.com/assets/colab-badge.svg\" alt=\"Open In Colab\"/></a>"
      ]
    },
    {
      "cell_type": "code",
      "execution_count": 1,
      "metadata": {
        "colab": {
          "base_uri": "https://localhost:8080/"
        },
        "id": "SMuNa2GMTvdY",
        "outputId": "0e25c0b2-1a67-415b-a09e-98ad0adc3d6f"
      },
      "outputs": [
        {
          "output_type": "stream",
          "name": "stdout",
          "text": [
            "Parameters: C=0.1, kernel=rbf, gamma=scale, Validation Accuracy: 0.8950\n",
            "Parameters: C=0.1, kernel=rbf, gamma=auto, Validation Accuracy: 0.8950\n",
            "Parameters: C=0.1, kernel=rbf, gamma=0.1, Validation Accuracy: 0.8400\n",
            "Parameters: C=0.1, kernel=rbf, gamma=1, Validation Accuracy: 0.8900\n",
            "Parameters: C=0.1, kernel=poly, gamma=scale, Validation Accuracy: 0.8500\n",
            "Parameters: C=0.1, kernel=poly, gamma=auto, Validation Accuracy: 0.8500\n",
            "Parameters: C=0.1, kernel=poly, gamma=0.1, Validation Accuracy: 0.8000\n",
            "Parameters: C=0.1, kernel=poly, gamma=1, Validation Accuracy: 0.8500\n",
            "Parameters: C=1, kernel=rbf, gamma=scale, Validation Accuracy: 0.9050\n",
            "Parameters: C=1, kernel=rbf, gamma=auto, Validation Accuracy: 0.9050\n",
            "Parameters: C=1, kernel=rbf, gamma=0.1, Validation Accuracy: 0.8550\n",
            "Parameters: C=1, kernel=rbf, gamma=1, Validation Accuracy: 0.9100\n",
            "Parameters: C=1, kernel=poly, gamma=scale, Validation Accuracy: 0.8450\n",
            "Parameters: C=1, kernel=poly, gamma=auto, Validation Accuracy: 0.8450\n",
            "Parameters: C=1, kernel=poly, gamma=0.1, Validation Accuracy: 0.8250\n",
            "Parameters: C=1, kernel=poly, gamma=1, Validation Accuracy: 0.8500\n",
            "Parameters: C=10, kernel=rbf, gamma=scale, Validation Accuracy: 0.9150\n",
            "Parameters: C=10, kernel=rbf, gamma=auto, Validation Accuracy: 0.9150\n",
            "Parameters: C=10, kernel=rbf, gamma=0.1, Validation Accuracy: 0.8900\n",
            "Parameters: C=10, kernel=rbf, gamma=1, Validation Accuracy: 0.9150\n",
            "Parameters: C=10, kernel=poly, gamma=scale, Validation Accuracy: 0.8500\n",
            "Parameters: C=10, kernel=poly, gamma=auto, Validation Accuracy: 0.8500\n",
            "Parameters: C=10, kernel=poly, gamma=0.1, Validation Accuracy: 0.8550\n",
            "Parameters: C=10, kernel=poly, gamma=1, Validation Accuracy: 0.8550\n",
            "Parameters: C=100, kernel=rbf, gamma=scale, Validation Accuracy: 0.9150\n",
            "Parameters: C=100, kernel=rbf, gamma=auto, Validation Accuracy: 0.9150\n",
            "Parameters: C=100, kernel=rbf, gamma=0.1, Validation Accuracy: 0.9000\n",
            "Parameters: C=100, kernel=rbf, gamma=1, Validation Accuracy: 0.9100\n",
            "Parameters: C=100, kernel=poly, gamma=scale, Validation Accuracy: 0.8600\n",
            "Parameters: C=100, kernel=poly, gamma=auto, Validation Accuracy: 0.8600\n",
            "Parameters: C=100, kernel=poly, gamma=0.1, Validation Accuracy: 0.8500\n",
            "Parameters: C=100, kernel=poly, gamma=1, Validation Accuracy: 0.8550\n",
            "\n",
            "Best parameters: {'C': 10, 'kernel': 'rbf', 'gamma': 'scale'}\n",
            "Best validation accuracy: 0.915\n",
            "Test accuracy: 0.895\n"
          ]
        }
      ],
      "source": [
        "import numpy as np\n",
        "from sklearn.model_selection import train_test_split\n",
        "from sklearn.svm import SVC\n",
        "from sklearn.metrics import accuracy_score\n",
        "from sklearn.preprocessing import StandardScaler\n",
        "from sklearn.datasets import make_moons\n",
        "import itertools\n",
        "import matplotlib.pyplot as plt\n",
        "\n",
        "# moons datasetの生成\n",
        "X, y = make_moons(n_samples=1000, noise=0.3, random_state=42)\n",
        "\n",
        "# データの分割（学習：60%, 検証：20%, テスト：20%）\n",
        "X_train, X_temp, y_train, y_temp = train_test_split(X, y, test_size=0.4, random_state=42)\n",
        "X_val, X_test, y_val, y_test = train_test_split(X_temp, y_temp, test_size=0.5, random_state=42)\n",
        "\n",
        "# スケーラーの初期化と適用\n",
        "scaler = StandardScaler()\n",
        "X_train_scaled = scaler.fit_transform(X_train)\n",
        "X_val_scaled = scaler.transform(X_val)\n",
        "X_test_scaled = scaler.transform(X_test)\n",
        "\n",
        "# ハイパーパラメータのグリッドを定義\n",
        "param_grid = {\n",
        "    'C': [0.1, 1, 10, 100],\n",
        "    'kernel': ['rbf', 'poly'],\n",
        "    'gamma': ['scale', 'auto', 0.1, 1]\n",
        "}\n",
        "\n",
        "# 全ての組み合わせを生成\n",
        "param_combinations = list(itertools.product(param_grid['C'], param_grid['kernel'], param_grid['gamma']))\n",
        "\n",
        "# 最適化ループ\n",
        "best_accuracy = 0\n",
        "best_params = None\n",
        "\n",
        "for C, kernel, gamma in param_combinations:\n",
        "    # モデルの作成と学習\n",
        "    svm = SVC(C=C, kernel=kernel, gamma=gamma, random_state=42)\n",
        "    svm.fit(X_train_scaled, y_train)\n",
        "\n",
        "    # 検証データでの評価\n",
        "    y_val_pred = svm.predict(X_val_scaled)\n",
        "    accuracy = accuracy_score(y_val, y_val_pred)\n",
        "\n",
        "    print(f\"Parameters: C={C}, kernel={kernel}, gamma={gamma}, Validation Accuracy: {accuracy:.4f}\")\n",
        "\n",
        "    # 最良のモデルを保存\n",
        "    if accuracy > best_accuracy:\n",
        "        best_accuracy = accuracy\n",
        "        best_params = {'C': C, 'kernel': kernel, 'gamma': gamma}\n",
        "\n",
        "print(\"\\nBest parameters:\", best_params)\n",
        "print(\"Best validation accuracy:\", best_accuracy)\n",
        "\n",
        "# 最良のモデルで最終評価\n",
        "best_svm = SVC(**best_params, random_state=42)\n",
        "best_svm.fit(X_train_scaled, y_train)\n",
        "y_test_pred = best_svm.predict(X_test_scaled)\n",
        "test_accuracy = accuracy_score(y_test, y_test_pred)\n",
        "print(\"Test accuracy:\", test_accuracy)"
      ]
    },
    {
      "cell_type": "code",
      "source": [],
      "metadata": {
        "id": "4uUEBVcWTzTf"
      },
      "execution_count": null,
      "outputs": []
    }
  ]
}