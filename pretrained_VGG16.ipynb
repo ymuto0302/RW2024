{
  "nbformat": 4,
  "nbformat_minor": 0,
  "metadata": {
    "colab": {
      "provenance": [],
      "authorship_tag": "ABX9TyMzu8SRjleHgRymiaMWn+yf",
      "include_colab_link": true
    },
    "kernelspec": {
      "name": "python3",
      "display_name": "Python 3"
    },
    "language_info": {
      "name": "python"
    }
  },
  "cells": [
    {
      "cell_type": "markdown",
      "metadata": {
        "id": "view-in-github",
        "colab_type": "text"
      },
      "source": [
        "<a href=\"https://colab.research.google.com/github/ymuto0302/RW2024/blob/main/pretrained_VGG16.ipynb\" target=\"_parent\"><img src=\"https://colab.research.google.com/assets/colab-badge.svg\" alt=\"Open In Colab\"/></a>"
      ]
    },
    {
      "cell_type": "code",
      "execution_count": 3,
      "metadata": {
        "colab": {
          "base_uri": "https://localhost:8080/"
        },
        "id": "ca8ib0SKGKzO",
        "outputId": "4f14cc0f-975b-4a03-aca9-65b7b04793ff"
      },
      "outputs": [
        {
          "output_type": "stream",
          "name": "stdout",
          "text": [
            "Predicted class: tiger\n"
          ]
        }
      ],
      "source": [
        "import torch\n",
        "import torchvision.models as models\n",
        "import torchvision.transforms as transforms\n",
        "from PIL import Image\n",
        "\n",
        "# 事前学習済みVGG16モデルのロード\n",
        "model = models.vgg16(weights=models.VGG16_Weights.IMAGENET1K_V1)\n",
        "\n",
        "# モデルを評価モードに設定\n",
        "model.eval()\n",
        "\n",
        "# 入力画像の前処理\n",
        "preprocess = transforms.Compose([\n",
        "    transforms.Resize(256),\n",
        "    transforms.CenterCrop(224),\n",
        "    transforms.ToTensor(),\n",
        "    transforms.Normalize(mean=[0.485, 0.456, 0.406], std=[0.229, 0.224, 0.225]),\n",
        "])\n",
        "\n",
        "# 画像の読み込みと前処理\n",
        "img = Image.open(\"example.jpg\")\n",
        "img_tensor = preprocess(img) # shape is [3, 224, 224]\n",
        "img_tensor = img_tensor.unsqueeze(0)  # バッチ次元を追加 → shape is [1, 3, 224, 224]\n",
        "\n",
        "# GPUが利用可能な場合はGPUを使用\n",
        "device = torch.device(\"cuda\" if torch.cuda.is_available() else \"cpu\")\n",
        "model.to(device)\n",
        "img_tensor = img_tensor.to(device)\n",
        "\n",
        "# 推論\n",
        "with torch.no_grad():\n",
        "    output = model(img_tensor)\n",
        "\n",
        "# 結果の処理\n",
        "_, predicted = torch.max(output, 1)\n",
        "\n",
        "# ImageNetクラスのラベルをロード\n",
        "with open(\"imagenet_classes.txt\") as f:\n",
        "    classes = [line.strip() for line in f.readlines()]\n",
        "\n",
        "# 予測結果の表示\n",
        "print(f\"Predicted class: {classes[predicted.item()]}\")"
      ]
    },
    {
      "cell_type": "code",
      "source": [],
      "metadata": {
        "id": "beDHBE5CG1hm"
      },
      "execution_count": null,
      "outputs": []
    }
  ]
}