{
  "nbformat": 4,
  "nbformat_minor": 0,
  "metadata": {
    "colab": {
      "provenance": [],
      "authorship_tag": "ABX9TyPmuRO77D1Ss/moNgqnoCs1",
      "include_colab_link": true
    },
    "kernelspec": {
      "name": "python3",
      "display_name": "Python 3"
    },
    "language_info": {
      "name": "python"
    }
  },
  "cells": [
    {
      "cell_type": "markdown",
      "metadata": {
        "id": "view-in-github",
        "colab_type": "text"
      },
      "source": [
        "<a href=\"https://colab.research.google.com/github/ymuto0302/RW2024/blob/main/perceptron.ipynb\" target=\"_parent\"><img src=\"https://colab.research.google.com/assets/colab-badge.svg\" alt=\"Open In Colab\"/></a>"
      ]
    },
    {
      "cell_type": "code",
      "execution_count": null,
      "metadata": {
        "id": "A3EJzRqb8060"
      },
      "outputs": [],
      "source": [
        "'''\n",
        "パーセプトロン\n",
        "'''\n",
        "import numpy as np\n",
        "from sklearn.datasets import load_iris\n",
        "from sklearn.linear_model import Perceptron\n",
        "from sklearn.model_selection import train_test_split\n",
        "\n",
        "# データの読み込み\n",
        "iris = load_iris()\n",
        "\n",
        "# 特徴量とラベルの分離\n",
        "# \"sepal length\" と \"petal length\" の列のみを取り出す\n",
        "X = iris.data[:, [0,2]]\n",
        "y = iris.target\n",
        "\n",
        "# モデルの構築\n",
        "model = Perceptron()\n",
        "\n",
        "# 学習データとテストデータに分割 (学習:テスト=7:3)\n",
        "X_train, X_test, y_train, y_test = train_test_split(X, y,\n",
        "                                                    test_size=0.3,\n",
        "                                                    stratify=y)\n",
        "\n",
        "# モデルの学習\n",
        "model.fit(X_train, y_train)\n",
        "\n",
        "# 予測\n",
        "predictions = model.predict(X_test)\n",
        "\n",
        "# 評価\n",
        "print(\"accuracy:\", np.mean(predictions == y_test))\n",
        "\n",
        "# 決定境界の描画\n",
        "from sklearn.inspection import DecisionBoundaryDisplay\n",
        "import matplotlib.pyplot as plt\n",
        "fig, ax = plt.subplots() # ax を取得するため subplots を使う\n",
        "DecisionBoundaryDisplay.from_estimator(model, X_test,\n",
        "                                       alpha=0.4, ax=ax) # 決定境界の描画\n",
        "ax.scatter(X_test[:, 0], X_test[:, 1], c=y_test, edgecolor='black') # テストサンプルを描画"
      ]
    }
  ]
}