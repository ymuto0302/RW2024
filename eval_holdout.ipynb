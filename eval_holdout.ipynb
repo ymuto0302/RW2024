{
  "nbformat": 4,
  "nbformat_minor": 0,
  "metadata": {
    "colab": {
      "provenance": [],
      "authorship_tag": "ABX9TyNrvnv/c/GsljOJ9DUsGQWf",
      "include_colab_link": true
    },
    "kernelspec": {
      "name": "python3",
      "display_name": "Python 3"
    },
    "language_info": {
      "name": "python"
    }
  },
  "cells": [
    {
      "cell_type": "markdown",
      "metadata": {
        "id": "view-in-github",
        "colab_type": "text"
      },
      "source": [
        "<a href=\"https://colab.research.google.com/github/ymuto0302/RW2024/blob/main/eval_holdout.ipynb\" target=\"_parent\"><img src=\"https://colab.research.google.com/assets/colab-badge.svg\" alt=\"Open In Colab\"/></a>"
      ]
    },
    {
      "cell_type": "code",
      "execution_count": 1,
      "metadata": {
        "colab": {
          "base_uri": "https://localhost:8080/"
        },
        "id": "2oF5wc7rR5f7",
        "outputId": "088faede-9e92-4636-866f-14f6fba2cea9"
      },
      "outputs": [
        {
          "output_type": "stream",
          "name": "stdout",
          "text": [
            "shape of X_train: (105, 4)\n",
            "shape of y-train: (105,)\n",
            "shape of X_test (45, 4)\n",
            "shape of y_test (45,)\n",
            "y_test: [0 1 2 2 1 1 0 1 2 1 2 1 0 2 2 1 0 1 0 2 2 0 0 2 0 1 2 0 1 1 1 2 2 0 0 2 1\n",
            " 0 0 2 0 1 2 0 1]\n"
          ]
        }
      ],
      "source": [
        "from sklearn.datasets import load_iris\n",
        "from sklearn.model_selection import train_test_split\n",
        "from sklearn.utils import shuffle\n",
        "\n",
        "# データの読み込み\n",
        "iris = load_iris()\n",
        "\n",
        "# データセットのシャッフル & 特徴量とラベルの分離\n",
        "X, y = shuffle(iris.data, iris.target, random_state=0)\n",
        "\n",
        "# 学習データとテストデータに分割 (学習:テスト=7:3)\n",
        "X_train, X_test, y_train, y_test = train_test_split(X, y, test_size=0.3, stratify=y)\n",
        "\n",
        "print(\"shape of X_train:\", X_train.shape)\n",
        "print(\"shape of y-train:\", y_train.shape)\n",
        "\n",
        "print(\"shape of X_test\", X_test.shape)\n",
        "print(\"shape of y_test\", y_test.shape)\n",
        "\n",
        "print(\"y_test:\", y_test)\n",
        "\n",
        "# これ以降に学習，テストのプロセスを記述する"
      ]
    },
    {
      "cell_type": "code",
      "source": [],
      "metadata": {
        "id": "4PqEH68NSJ7H"
      },
      "execution_count": null,
      "outputs": []
    }
  ]
}