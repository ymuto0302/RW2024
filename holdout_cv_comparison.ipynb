{
  "nbformat": 4,
  "nbformat_minor": 0,
  "metadata": {
    "colab": {
      "provenance": [],
      "authorship_tag": "ABX9TyODqbuQKDNjyJxicDVYuJAy",
      "include_colab_link": true
    },
    "kernelspec": {
      "name": "python3",
      "display_name": "Python 3"
    },
    "language_info": {
      "name": "python"
    }
  },
  "cells": [
    {
      "cell_type": "markdown",
      "metadata": {
        "id": "view-in-github",
        "colab_type": "text"
      },
      "source": [
        "<a href=\"https://colab.research.google.com/github/ymuto0302/RW2024/blob/main/holdout_cv_comparison.ipynb\" target=\"_parent\"><img src=\"https://colab.research.google.com/assets/colab-badge.svg\" alt=\"Open In Colab\"/></a>"
      ]
    },
    {
      "cell_type": "code",
      "execution_count": 1,
      "metadata": {
        "colab": {
          "base_uri": "https://localhost:8080/"
        },
        "id": "eV3YgqSNS5Kk",
        "outputId": "0dfb6f8e-ebd2-43b1-b781-78cfa0646e72"
      },
      "outputs": [
        {
          "output_type": "stream",
          "name": "stdout",
          "text": [
            "=== ホールドアウト法による正解率 ===\n",
            "SVC: 0.625\n",
            "Decision Tree: 0.8\n",
            "=== 交差検証法による正解率 ===\n",
            "SVC: 0.8099999999999999\n",
            "Decision Tree: 0.8949999999999999\n"
          ]
        }
      ],
      "source": [
        "# ホールドアウト法と交差検証法の比較\n",
        "from sklearn.datasets import make_moons\n",
        "from sklearn.svm import SVC\n",
        "from sklearn.tree import DecisionTreeClassifier\n",
        "\n",
        "# データ読み込み\n",
        "X, y = make_moons(n_samples=200, noise=0.2, random_state=12)\n",
        "\n",
        "# モデルの定義：ここでは SVM と DecisionTreeClassifier を比較する\n",
        "model_svc = SVC(kernel=\"poly\", degree=3)\n",
        "model_tree = DecisionTreeClassifier()\n",
        "\n",
        "# ホールドアウト法による評価\n",
        "from sklearn.model_selection import train_test_split\n",
        "X_train, X_test, y_train, y_test = train_test_split(X, y, test_size=0.2, random_state=12)\n",
        "model_svc.fit(X_train, y_train)\n",
        "model_tree.fit(X_train, y_train)\n",
        "\n",
        "print(\"=== ホールドアウト法による正解率 ===\")\n",
        "print(\"SVC: {}\".format(model_svc.score(X_test, y_test)))\n",
        "print(\"Decision Tree: {}\".format(model_tree.score(X_test, y_test)))\n",
        "\n",
        "# 5-Fold Cross-Validation による評価\n",
        "from sklearn.model_selection import cross_val_score\n",
        "cross_val_svc = cross_val_score(model_svc, X, y, cv=5, scoring='accuracy')\n",
        "cross_val_tree = cross_val_score(model_tree, X, y, cv=5, scoring='accuracy')\n",
        "print(\"=== 交差検証法による正解率 ===\")\n",
        "print(\"SVC: {}\".format(cross_val_svc.mean()))\n",
        "print(\"Decision Tree: {}\".format(cross_val_tree.mean()))"
      ]
    },
    {
      "cell_type": "code",
      "source": [],
      "metadata": {
        "id": "00wMutzuS_NW"
      },
      "execution_count": null,
      "outputs": []
    }
  ]
}