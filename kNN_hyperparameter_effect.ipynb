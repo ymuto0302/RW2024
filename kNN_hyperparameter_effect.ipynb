{
  "nbformat": 4,
  "nbformat_minor": 0,
  "metadata": {
    "colab": {
      "provenance": [],
      "authorship_tag": "ABX9TyPKC01HnPt6EoA+IzlB5YEY",
      "include_colab_link": true
    },
    "kernelspec": {
      "name": "python3",
      "display_name": "Python 3"
    },
    "language_info": {
      "name": "python"
    }
  },
  "cells": [
    {
      "cell_type": "markdown",
      "metadata": {
        "id": "view-in-github",
        "colab_type": "text"
      },
      "source": [
        "<a href=\"https://colab.research.google.com/github/ymuto0302/RW2024/blob/main/kNN_hyperparameter_effect.ipynb\" target=\"_parent\"><img src=\"https://colab.research.google.com/assets/colab-badge.svg\" alt=\"Open In Colab\"/></a>"
      ]
    },
    {
      "cell_type": "code",
      "execution_count": null,
      "metadata": {
        "id": "5rC_-mK150sX"
      },
      "outputs": [],
      "source": [
        "'''\n",
        "k-近傍法における近傍数の影響\n",
        "'''\n",
        "from sklearn.datasets import make_classification\n",
        "from sklearn.neighbors import KNeighborsClassifier\n",
        "from sklearn.model_selection import train_test_split\n",
        "import matplotlib.pyplot as plt\n",
        "\n",
        "# データの生成\n",
        "X, y = make_classification(random_state=11,\n",
        "                           n_samples=300,\n",
        "                           n_features=2,\n",
        "                           n_redundant=0,\n",
        "                           n_informative=2,\n",
        "                           n_clusters_per_class=1,\n",
        "                           n_classes=3)\n",
        "\n",
        "# 学習データとテストデータに分割 (学習:テスト=7:3)\n",
        "X_train, X_test, y_train, y_test = train_test_split(X, y, test_size=0.3,\n",
        "                                                    stratify=y,\n",
        "                                                    random_state=12)\n",
        "\n",
        "# モデルの構築 & 評価\n",
        "log_k = []\n",
        "log_score = []\n",
        "for k in range(1, 16, 2):\n",
        "    model = KNeighborsClassifier(n_neighbors=k)\n",
        "    model.fit(X_train, y_train)\n",
        "    score = model.score(X_test, y_test)\n",
        "    print(\"k={}, accuracy={:.2f}\".format(k, score))\n",
        "    log_k.append(k)\n",
        "    log_score.append(score)\n",
        "\n",
        "plt.plot(log_k, log_score, marker='o')\n",
        "plt.show()"
      ]
    }
  ]
}