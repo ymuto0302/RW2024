{
  "nbformat": 4,
  "nbformat_minor": 0,
  "metadata": {
    "colab": {
      "provenance": [],
      "authorship_tag": "ABX9TyO2Pr7vSKN/XrddmqWec3yZ",
      "include_colab_link": true
    },
    "kernelspec": {
      "name": "python3",
      "display_name": "Python 3"
    },
    "language_info": {
      "name": "python"
    }
  },
  "cells": [
    {
      "cell_type": "markdown",
      "metadata": {
        "id": "view-in-github",
        "colab_type": "text"
      },
      "source": [
        "<a href=\"https://colab.research.google.com/github/ymuto0302/RW2024/blob/main/holdout_GridSearchCV.ipynb\" target=\"_parent\"><img src=\"https://colab.research.google.com/assets/colab-badge.svg\" alt=\"Open In Colab\"/></a>"
      ]
    },
    {
      "cell_type": "code",
      "execution_count": 1,
      "metadata": {
        "colab": {
          "base_uri": "https://localhost:8080/"
        },
        "id": "a3x2MlxpUE_5",
        "outputId": "bd69617e-0d53-4a5a-892b-905c83720e59"
      },
      "outputs": [
        {
          "output_type": "stream",
          "name": "stdout",
          "text": [
            "Best parameters: {'gamma': 'scale', 'kernel': 'rbf'}\n",
            "Best cross-validation score: 0.8875\n",
            "Test accuracy: 0.875\n"
          ]
        }
      ],
      "source": [
        "from sklearn.model_selection import train_test_split, GridSearchCV\n",
        "from sklearn.datasets import make_moons\n",
        "from sklearn.svm import SVC\n",
        "from sklearn.metrics import accuracy_score\n",
        "\n",
        "# データの生成\n",
        "X, y = make_moons(n_samples=200, noise=0.3, random_state=42)\n",
        "\n",
        "# ホールドアウト法によるデータ分割\n",
        "X_train, X_test, y_train, y_test = train_test_split(X, y, test_size=0.2, random_state=42)\n",
        "\n",
        "# ハイパーパラメータのグリッドを定義\n",
        "param_grid = {\n",
        "    'kernel': ['rbf', 'poly', 'linear'],\n",
        "    'gamma': ['scale', 'auto', 0.1, 1]\n",
        "}\n",
        "\n",
        "# GridSearchCVの設定\n",
        "svm = SVC(random_state=42)\n",
        "grid_search = GridSearchCV(svm, param_grid, cv=5, scoring='accuracy')\n",
        "\n",
        "# GridSearchの実行\n",
        "grid_search.fit(X_train, y_train)\n",
        "\n",
        "# 最適なパラメータと最高スコアの表示\n",
        "print(\"Best parameters:\", grid_search.best_params_)\n",
        "print(\"Best cross-validation score:\", grid_search.best_score_)\n",
        "\n",
        "# 最適なモデルを取得\n",
        "best_model = grid_search.best_estimator_\n",
        "\n",
        "# テストセットでの最終評価\n",
        "test_predictions = best_model.predict(X_test)\n",
        "test_accuracy = accuracy_score(y_test, test_predictions)\n",
        "print(\"Test accuracy:\", test_accuracy)"
      ]
    },
    {
      "cell_type": "code",
      "source": [],
      "metadata": {
        "id": "apl3suUpUI2p"
      },
      "execution_count": null,
      "outputs": []
    }
  ]
}