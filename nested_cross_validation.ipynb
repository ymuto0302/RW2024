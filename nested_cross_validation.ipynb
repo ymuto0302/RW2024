{
  "nbformat": 4,
  "nbformat_minor": 0,
  "metadata": {
    "colab": {
      "provenance": [],
      "authorship_tag": "ABX9TyNMqHUbXT+5OMQq1b3+ZQaQ",
      "include_colab_link": true
    },
    "kernelspec": {
      "name": "python3",
      "display_name": "Python 3"
    },
    "language_info": {
      "name": "python"
    }
  },
  "cells": [
    {
      "cell_type": "markdown",
      "metadata": {
        "id": "view-in-github",
        "colab_type": "text"
      },
      "source": [
        "<a href=\"https://colab.research.google.com/github/ymuto0302/RW2024/blob/main/nested_cross_validation.ipynb\" target=\"_parent\"><img src=\"https://colab.research.google.com/assets/colab-badge.svg\" alt=\"Open In Colab\"/></a>"
      ]
    },
    {
      "cell_type": "code",
      "execution_count": 1,
      "metadata": {
        "colab": {
          "base_uri": "https://localhost:8080/"
        },
        "id": "Qhkb6b3gUa6L",
        "outputId": "8aee6739-f234-48d2-891e-5cc2d549bb9e"
      },
      "outputs": [
        {
          "output_type": "stream",
          "name": "stdout",
          "text": [
            "Nested CV scores: [0.88, 0.845, 0.885, 0.865, 0.88]\n",
            "Average score: 0.871 (+/- 0.015)\n"
          ]
        }
      ],
      "source": [
        "from sklearn.model_selection import KFold, GridSearchCV\n",
        "from sklearn.svm import SVC\n",
        "from sklearn.datasets import make_classification\n",
        "import numpy as np\n",
        "\n",
        "# サンプルデータの生成\n",
        "X, y = make_classification(n_samples=1000, n_features=20, random_state=42)\n",
        "\n",
        "# パラメータグリッドの定義\n",
        "param_grid = {'C': [0.1, 1, 10], 'kernel': ['rbf', 'linear']}\n",
        "\n",
        "# 外部ループと内部ループの設定\n",
        "outer_cv = KFold(n_splits=5, shuffle=True, random_state=42)\n",
        "inner_cv = KFold(n_splits=3, shuffle=True, random_state=42)\n",
        "\n",
        "# ネステッド交差検証の実行\n",
        "outer_scores = []\n",
        "\n",
        "for train_idx, test_idx in outer_cv.split(X):\n",
        "    X_train, X_test = X[train_idx], X[test_idx]\n",
        "    y_train, y_test = y[train_idx], y[test_idx]\n",
        "\n",
        "    # 内部ループでのグリッドサーチ\n",
        "    clf = GridSearchCV(SVC(), param_grid, cv=inner_cv)\n",
        "    clf.fit(X_train, y_train)\n",
        "\n",
        "    # 最適なモデルでテストデータを評価\n",
        "    score = clf.score(X_test, y_test)\n",
        "    outer_scores.append(score)\n",
        "\n",
        "print(f\"Nested CV scores: {outer_scores}\")\n",
        "print(f\"Average score: {np.mean(outer_scores):.3f} (+/- {np.std(outer_scores):.3f})\")\n"
      ]
    },
    {
      "cell_type": "code",
      "source": [],
      "metadata": {
        "id": "W_wBCMeqUeNy"
      },
      "execution_count": null,
      "outputs": []
    }
  ]
}