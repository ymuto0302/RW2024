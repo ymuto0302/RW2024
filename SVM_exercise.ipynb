{
  "nbformat": 4,
  "nbformat_minor": 0,
  "metadata": {
    "colab": {
      "provenance": [],
      "authorship_tag": "ABX9TyOOKwjVrY3Dt/reqsHiHPKq",
      "include_colab_link": true
    },
    "kernelspec": {
      "name": "python3",
      "display_name": "Python 3"
    },
    "language_info": {
      "name": "python"
    }
  },
  "cells": [
    {
      "cell_type": "markdown",
      "metadata": {
        "id": "view-in-github",
        "colab_type": "text"
      },
      "source": [
        "<a href=\"https://colab.research.google.com/github/ymuto0302/RW2024/blob/main/SVM_exercise.ipynb\" target=\"_parent\"><img src=\"https://colab.research.google.com/assets/colab-badge.svg\" alt=\"Open In Colab\"/></a>"
      ]
    },
    {
      "cell_type": "markdown",
      "source": [
        "# 決定木を用いたIrisデータセットの分類と可視化"
      ],
      "metadata": {
        "id": "NSWpNx0Rb_rq"
      }
    },
    {
      "cell_type": "markdown",
      "source": [
        "## 環境設定とデータ準備："
      ],
      "metadata": {
        "id": "E9Do1LGtcE5K"
      }
    },
    {
      "cell_type": "code",
      "execution_count": 1,
      "metadata": {
        "id": "qsFAH89kbgJQ"
      },
      "outputs": [],
      "source": [
        "import numpy as np\n",
        "import pandas as pd\n",
        "import matplotlib.pyplot as plt\n",
        "from sklearn.datasets import load_iris, make_moons\n",
        "from sklearn.model_selection import train_test_split\n",
        "from sklearn.preprocessing import StandardScaler\n",
        "from sklearn.svm import SVC\n",
        "from sklearn.metrics import accuracy_score, confusion_matrix, classification_report\n",
        "from sklearn.model_selection import GridSearchCV\n",
        "\n",
        "# データセットの読み込みと前処理\n",
        "iris = load_iris()\n",
        "X_iris, y_iris = iris.data, iris.target\n",
        "\n",
        "moons = make_moons(n_samples=200, noise=0.15, random_state=42)\n",
        "X_moons, y_moons = moons\n",
        "\n",
        "# データの標準化\n",
        "scaler = StandardScaler()\n",
        "X_iris_scaled = scaler.fit_transform(X_iris)\n",
        "X_moons_scaled = scaler.fit_transform(X_moons)\n",
        "\n",
        "# データの分割\n",
        "X_iris_train, X_iris_test, y_iris_train, y_iris_test = train_test_split(X_iris_scaled, y_iris, test_size=0.3, random_state=42)\n",
        "X_moons_train, X_moons_test, y_moons_train, y_moons_test = train_test_split(X_moons_scaled, y_moons, test_size=0.3, random_state=42)"
      ]
    },
    {
      "cell_type": "markdown",
      "source": [
        "## SVMモデルの構築と評価（Irisデータセット）:"
      ],
      "metadata": {
        "id": "VXxbK0CicKq6"
      }
    },
    {
      "cell_type": "code",
      "source": [
        "def train_and_evaluate_svm(X_train, X_test, y_train, y_test, kernel, C=1.0, degree=3, gamma='scale'):\n",
        "    svm = SVC(kernel=kernel, C=C, degree=degree, gamma=gamma)\n",
        "    svm.fit(X_train, y_train)\n",
        "    y_pred = svm.predict(X_test)\n",
        "    accuracy = accuracy_score(y_test, y_pred)\n",
        "    print(f\"Kernel: {kernel}, Accuracy: {accuracy:.2f}\")\n",
        "    print(classification_report(y_test, y_pred))\n",
        "    return svm\n",
        "\n",
        "# 異なるカーネルでSVMを訓練・評価\n",
        "kernels = ['linear', 'poly', 'rbf']\n",
        "for kernel in kernels:\n",
        "    train_and_evaluate_svm(X_iris_train, X_iris_test, y_iris_train, y_iris_test, kernel)"
      ],
      "metadata": {
        "id": "xLHq_TBvcOKH"
      },
      "execution_count": null,
      "outputs": []
    },
    {
      "cell_type": "markdown",
      "source": [
        "## ハイパーパラメータCの影響分析:"
      ],
      "metadata": {
        "id": "csMcDe_icTH4"
      }
    },
    {
      "cell_type": "code",
      "source": [
        "C_values = [0.001, 0.01, 0.1, 1, 10, 100]\n",
        "accuracies = []\n",
        "\n",
        "for C in C_values:\n",
        "    svm = SVC(kernel='rbf', C=C)\n",
        "    svm.fit(X_iris_train, y_iris_train)\n",
        "    y_pred = svm.predict(X_iris_test)\n",
        "    accuracies.append(accuracy_score(y_iris_test, y_pred))\n",
        "\n",
        "plt.plot(C_values, accuracies)\n",
        "plt.xscale('log')\n",
        "plt.xlabel('C value')\n",
        "plt.ylabel('Accuracy')\n",
        "plt.title('SVM Performance vs C value (Iris dataset)')\n",
        "plt.show()"
      ],
      "metadata": {
        "id": "aqgs2Ed6cRFq"
      },
      "execution_count": null,
      "outputs": []
    },
    {
      "cell_type": "markdown",
      "source": [
        "## 非線形分離問題の解決（Moonsデータセット）:"
      ],
      "metadata": {
        "id": "jqNtiJoJcZ6q"
      }
    },
    {
      "cell_type": "code",
      "source": [
        "# Moonsデータセットに対するSVMの適用\n",
        "train_and_evaluate_svm(X_moons_train, X_moons_test, y_moons_train, y_moons_test, 'poly', degree=3)\n",
        "\n",
        "# 決定境界の可視化\n",
        "def plot_decision_boundary(X, y, model, title):\n",
        "    x_min, x_max = X[:, 0].min() - 0.5, X[:, 0].max() + 0.5\n",
        "    y_min, y_max = X[:, 1].min() - 0.5, X[:, 1].max() + 0.5\n",
        "    xx, yy = np.meshgrid(np.arange(x_min, x_max, 0.02),\n",
        "                         np.arange(y_min, y_max, 0.02))\n",
        "    Z = model.predict(np.c_[xx.ravel(), yy.ravel()])\n",
        "    Z = Z.reshape(xx.shape)\n",
        "    plt.contourf(xx, yy, Z, alpha=0.8, cmap=plt.cm.RdYlBu)\n",
        "    plt.scatter(X[:, 0], X[:, 1], c=y, cmap=plt.cm.RdYlBu)\n",
        "    plt.title(title)\n",
        "    plt.show()\n",
        "\n",
        "svm_moons = train_and_evaluate_svm(X_moons_train, X_moons_test, y_moons_train, y_moons_test, 'poly', degree=3)\n",
        "plot_decision_boundary(X_moons, y_moons, svm_moons, 'SVM Decision Boundary (Moons dataset)')"
      ],
      "metadata": {
        "id": "GDO9l1vMcXS-"
      },
      "execution_count": null,
      "outputs": []
    },
    {
      "cell_type": "code",
      "source": [],
      "metadata": {
        "id": "FeZCqQ5uj3E7"
      },
      "execution_count": null,
      "outputs": []
    }
  ]
}